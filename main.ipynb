{
 "cells": [
  {
   "cell_type": "code",
   "execution_count": null,
   "id": "fdba51b7",
   "metadata": {},
   "outputs": [],
   "source": [
    "import numpy as np\n",
    "import matplotlib.pyplot as plt\n",
    "%matplotlib inline\n",
    "import tensorflow as tf\n",
    "import os\n",
    "import seaborn as sns\n",
    "import random\n",
    "from PIL import Image\n",
    "from sklearn.metrics import classification_report, confusion_matrix\n",
    "from tensorflow import keras\n",
    "from tensorflow.keras import  layers, models\n",
    "from tensorflow.keras.preprocessing.image import ImageDataGenerator"
   ]
  },
  {
   "cell_type": "code",
   "execution_count": null,
   "id": "526adc5d",
   "metadata": {},
   "outputs": [],
   "source": [
    "# Define paths to the dataset directories\n",
    "train_dir = 'venv/chest_xray/train'  # Replace with your actual path\n",
    "val_dir = 'venv/chest_xray/val'    # Replace with your actual path\n",
    "test_dir = 'venv/chest_xray/test'  # Replace with your actual path\n"
   ]
  },
  {
   "cell_type": "code",
   "execution_count": null,
   "id": "8e371e1a",
   "metadata": {},
   "outputs": [],
   "source": [
    "class_names = ['Normal', 'Pneumonia']\n",
    "\n",
    "# Define show_sample_images function to visualize sample images from each category\n",
    "\n",
    "def show_sample_images(train_dir, class_names, samples_per_category=3):\n",
    "    plt.figure(figsize=(12, 6))\n",
    "    \n",
    "    for i, category in enumerate(class_names):\n",
    "        category_path = os.path.join(train_dir, category)\n",
    "        images = os.listdir(category_path)\n",
    "        \n",
    "        # Pick random samples from category\n",
    "        sample_images = random.sample(images, samples_per_category)\n",
    "        \n",
    "        for j, img_name in enumerate(sample_images):\n",
    "            img_path = os.path.join(category_path, img_name)\n",
    "            img = Image.open(img_path)\n",
    "            \n",
    "            plt.subplot(len(class_names), samples_per_category, i*samples_per_category + j + 1)\n",
    "            plt.imshow(img, cmap='gray')\n",
    "            plt.title(category)\n",
    "            plt.axis('off')\n",
    "    \n",
    "    plt.tight_layout()\n",
    "    plt.show()\n",
    "\n",
    "show_sample_images(train_dir,class_names)"
   ]
  },
  {
   "cell_type": "code",
   "execution_count": null,
   "id": "7e4668d6",
   "metadata": {},
   "outputs": [],
   "source": [
    "# Count the number of images in each category in the training set\n",
    "counts = {}\n",
    "for category in class_names:\n",
    "    category_path = os.path.join(train_dir, category)\n",
    "    counts[category] = len(os.listdir(category_path))\n",
    "\n",
    "\n",
    "print(counts)"
   ]
  },
  {
   "cell_type": "code",
   "execution_count": null,
   "id": "22e3f2f1",
   "metadata": {},
   "outputs": [],
   "source": [
    "import matplotlib.pyplot as plt\n",
    "# Plotting the counts of images per category\n",
    "plt.figure(figsize=(6,4))\n",
    "plt.bar(counts.keys(), counts.values(), color=['green', 'red'])\n",
    "plt.title('Number of Images per Category')\n",
    "plt.xlabel('Category')\n",
    "plt.ylabel('Count')\n",
    "plt.show()\n"
   ]
  },
  {
   "cell_type": "code",
   "execution_count": null,
   "id": "c413e5a9",
   "metadata": {},
   "outputs": [],
   "source": [
    "# Set image dimensions and batch size\n",
    "img_height = 150 \n",
    "img_width = 150\n",
    "batch_size = 32\n",
    "# Define ImageDataGenerator for data augmentation and normalization\n",
    "train_datagen = ImageDataGenerator(\n",
    "        rescale=1./255,\n",
    "        rotation_range=20,\n",
    "        width_shift_range=0.2,\n",
    "        height_shift_range=0.2,\n",
    "        shear_range=0.2,\n",
    "        zoom_range=0.2,\n",
    "        horizontal_flip=True,\n",
    "        fill_mode='nearest'\n",
    "    )\n",
    "\n",
    "val_test_datagen = ImageDataGenerator(rescale=1./255)"
   ]
  },
  {
   "cell_type": "code",
   "execution_count": null,
   "id": "d36a6970",
   "metadata": {},
   "outputs": [],
   "source": [
    "# Create generators for training, validation, and test datasets\n",
    "train_generator = train_datagen.flow_from_directory(\n",
    "        train_dir,\n",
    "        target_size=(img_height, img_width),\n",
    "        batch_size=batch_size,\n",
    "        class_mode='binary'  # 'binary' for two classes (normal/pneumonia)\n",
    "    )\n",
    "\n",
    "validation_generator = val_test_datagen.flow_from_directory(\n",
    "        val_dir,\n",
    "        target_size=(img_height, img_width),\n",
    "        batch_size=batch_size,\n",
    "        class_mode='binary'\n",
    "    )\n",
    "\n",
    "test_generator = val_test_datagen.flow_from_directory(\n",
    "        test_dir,\n",
    "        target_size=(img_height, img_width),\n",
    "        batch_size=batch_size,\n",
    "        class_mode='binary',\n",
    "        shuffle=False  # Typically set to False for consistent evaluation\n",
    "    )"
   ]
  },
  {
   "cell_type": "code",
   "execution_count": null,
   "id": "11b73c25",
   "metadata": {},
   "outputs": [],
   "source": [
    "print(f'class indices:  {train_generator.class_indices}')"
   ]
  },
  {
   "cell_type": "code",
   "execution_count": null,
   "id": "d630246c",
   "metadata": {},
   "outputs": [],
   "source": [
    "# Define the CNN model architecture\n",
    "model=models.Sequential([\n",
    "    layers.Conv2D(32, (3, 3), activation='relu', input_shape=(img_height, img_width, 3)),\n",
    "    layers.MaxPooling2D((2, 2)),\n",
    "    layers.Conv2D(64, (3, 3), activation='relu'),\n",
    "    layers.MaxPooling2D((2, 2)),\n",
    "    layers.Conv2D(128, (3, 3), activation='relu'),\n",
    "    layers.MaxPooling2D((2, 2)),\n",
    "    layers.Flatten(),\n",
    "    layers.Dense(128, activation='relu'),\n",
    "    layers.Dense(1, activation='sigmoid')  # Binary classification\n",
    "])"
   ]
  },
  {
   "cell_type": "code",
   "execution_count": null,
   "id": "11cedcd5",
   "metadata": {},
   "outputs": [],
   "source": [
    "# Compile the model\n",
    "model.compile(optimizer='adam',\n",
    "              loss=tf.keras.losses.binary_crossentropy\n",
    "                , metrics=['accuracy'])"
   ]
  },
  {
   "cell_type": "code",
   "execution_count": null,
   "id": "4b9819c5",
   "metadata": {},
   "outputs": [],
   "source": [
    "# Train the model\n",
    "history = model.fit(\n",
    "    train_generator,\n",
    "    validation_data=validation_generator,\n",
    "    epochs=10\n",
    ")"
   ]
  },
  {
   "cell_type": "code",
   "execution_count": null,
   "id": "b66730bc",
   "metadata": {},
   "outputs": [],
   "source": [
    "# evaluate the model on the test set\n",
    "results = model.evaluate(test_generator)\n",
    "print(f\"Test Accuracy: {results[1]*100:.2f}%\")"
   ]
  },
  {
   "cell_type": "code",
   "execution_count": null,
   "id": "b2987ff9",
   "metadata": {},
   "outputs": [],
   "source": [
    "# True labels\n",
    "y_true = test_generator.classes\n",
    "\n",
    "# Predicted probabilities\n",
    "y_pred_probs = model.predict(test_generator)\n",
    "\n",
    "# If using sigmoid activation (binary classifier)\n",
    "y_pred = (y_pred_probs > 0.5).astype('int32').flatten()\n"
   ]
  },
  {
   "cell_type": "code",
   "execution_count": null,
   "id": "7975453c",
   "metadata": {},
   "outputs": [],
   "source": [
    "# calculate and print classification report\n",
    "print(classification_report(y_true, y_pred, target_names=class_names))"
   ]
  },
  {
   "cell_type": "code",
   "execution_count": null,
   "id": "0af2167f",
   "metadata": {},
   "outputs": [],
   "source": [
    "# Calculate confusion matrix and plot it\n",
    "cm = confusion_matrix(y_true, y_pred)\n",
    "\n",
    "plt.figure(figsize=(6, 5))\n",
    "sns.heatmap(cm, annot=True, fmt='d', cmap='Blues',\n",
    "            xticklabels=class_names, yticklabels=class_names)\n",
    "plt.xlabel('Predicted')\n",
    "plt.ylabel('True')\n",
    "plt.title('Confusion Matrix')\n",
    "plt.show()\n"
   ]
  },
  {
   "cell_type": "code",
   "execution_count": null,
   "id": "fb3978ca",
   "metadata": {},
   "outputs": [],
   "source": [
    "# plot_history function to visualize training and validation accuracy and loss\n",
    "def plot_history(history):\n",
    "    acc = history.history['accuracy']\n",
    "    val_acc = history.history['val_accuracy']\n",
    "    loss = history.history['loss']\n",
    "    val_loss = history.history['val_loss']\n",
    "\n",
    "    plt.figure(figsize=(12, 5))\n",
    "\n",
    "    plt.subplot(1, 2, 1)\n",
    "    plt.plot(acc, label='Train Accuracy')\n",
    "    plt.plot(val_acc, label='Val Accuracy')\n",
    "    plt.legend()\n",
    "    plt.title('Accuracy')\n",
    "\n",
    "    plt.subplot(1, 2, 2)\n",
    "    plt.plot(loss, label='Train Loss')\n",
    "    plt.plot(val_loss, label='Val Loss')\n",
    "    plt.legend()\n",
    "    plt.title('Loss')\n",
    "\n",
    "    plt.show()\n",
    "\n",
    "plot_history(history)\n"
   ]
  },
  {
   "cell_type": "code",
   "execution_count": null,
   "id": "4c304191",
   "metadata": {},
   "outputs": [],
   "source": []
  }
 ],
 "metadata": {
  "kernelspec": {
   "display_name": "venv",
   "language": "python",
   "name": "python3"
  },
  "language_info": {
   "codemirror_mode": {
    "name": "ipython",
    "version": 3
   },
   "file_extension": ".py",
   "mimetype": "text/x-python",
   "name": "python",
   "nbconvert_exporter": "python",
   "pygments_lexer": "ipython3",
   "version": "3.9.10"
  }
 },
 "nbformat": 4,
 "nbformat_minor": 5
}
